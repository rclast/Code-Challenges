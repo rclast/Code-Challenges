{
 "cells": [
  {
   "cell_type": "markdown",
   "metadata": {},
   "source": [
    "# Engage3 Data Challenge\n",
    "\n",
    "## 1. Create Regional Prices Cross-Tablulation"
   ]
  },
  {
   "cell_type": "code",
   "execution_count": 1,
   "metadata": {},
   "outputs": [],
   "source": [
    "import numpy as np\n",
    "import pandas as pd\n",
    "import matplotlib.pyplot as plt\n",
    "%matplotlib inline\n",
    "import warnings\n",
    "\n",
    "warnings.filterwarnings('ignore')"
   ]
  },
  {
   "cell_type": "markdown",
   "metadata": {},
   "source": [
    "I will first load the data into separate dataframes from the three separate files provided."
   ]
  },
  {
   "cell_type": "code",
   "execution_count": 2,
   "metadata": {},
   "outputs": [
    {
     "data": {
      "text/html": [
       "<div>\n",
       "<style scoped>\n",
       "    .dataframe tbody tr th:only-of-type {\n",
       "        vertical-align: middle;\n",
       "    }\n",
       "\n",
       "    .dataframe tbody tr th {\n",
       "        vertical-align: top;\n",
       "    }\n",
       "\n",
       "    .dataframe thead th {\n",
       "        text-align: right;\n",
       "    }\n",
       "</style>\n",
       "<table border=\"1\" class=\"dataframe\">\n",
       "  <thead>\n",
       "    <tr style=\"text-align: right;\">\n",
       "      <th></th>\n",
       "      <th>Auditor ID</th>\n",
       "      <th>Date</th>\n",
       "      <th>Price</th>\n",
       "      <th>Store ID</th>\n",
       "      <th>UPC</th>\n",
       "    </tr>\n",
       "  </thead>\n",
       "  <tbody>\n",
       "    <tr>\n",
       "      <th>0</th>\n",
       "      <td>234</td>\n",
       "      <td>10/18/17</td>\n",
       "      <td>24.95</td>\n",
       "      <td>66999</td>\n",
       "      <td>268588472</td>\n",
       "    </tr>\n",
       "    <tr>\n",
       "      <th>1</th>\n",
       "      <td>234</td>\n",
       "      <td>10/27/17</td>\n",
       "      <td>49.71</td>\n",
       "      <td>66999</td>\n",
       "      <td>475245085</td>\n",
       "    </tr>\n",
       "    <tr>\n",
       "      <th>2</th>\n",
       "      <td>234</td>\n",
       "      <td>10/20/17</td>\n",
       "      <td>25.75</td>\n",
       "      <td>66999</td>\n",
       "      <td>126967843</td>\n",
       "    </tr>\n",
       "    <tr>\n",
       "      <th>3</th>\n",
       "      <td>234</td>\n",
       "      <td>10/23/17</td>\n",
       "      <td>18.81</td>\n",
       "      <td>66999</td>\n",
       "      <td>708930835</td>\n",
       "    </tr>\n",
       "    <tr>\n",
       "      <th>4</th>\n",
       "      <td>234</td>\n",
       "      <td>10/23/17</td>\n",
       "      <td>33.32</td>\n",
       "      <td>66999</td>\n",
       "      <td>325885139</td>\n",
       "    </tr>\n",
       "  </tbody>\n",
       "</table>\n",
       "</div>"
      ],
      "text/plain": [
       "   Auditor ID      Date  Price  Store ID        UPC\n",
       "0         234  10/18/17  24.95     66999  268588472\n",
       "1         234  10/27/17  49.71     66999  475245085\n",
       "2         234  10/20/17  25.75     66999  126967843\n",
       "3         234  10/23/17  18.81     66999  708930835\n",
       "4         234  10/23/17  33.32     66999  325885139"
      ]
     },
     "execution_count": 2,
     "metadata": {},
     "output_type": "execute_result"
    }
   ],
   "source": [
    "prices = pd.read_csv('prices.csv')\n",
    "prices.head()"
   ]
  },
  {
   "cell_type": "code",
   "execution_count": 3,
   "metadata": {},
   "outputs": [
    {
     "data": {
      "text/html": [
       "<div>\n",
       "<style scoped>\n",
       "    .dataframe tbody tr th:only-of-type {\n",
       "        vertical-align: middle;\n",
       "    }\n",
       "\n",
       "    .dataframe tbody tr th {\n",
       "        vertical-align: top;\n",
       "    }\n",
       "\n",
       "    .dataframe thead th {\n",
       "        text-align: right;\n",
       "    }\n",
       "</style>\n",
       "<table border=\"1\" class=\"dataframe\">\n",
       "  <thead>\n",
       "    <tr style=\"text-align: right;\">\n",
       "      <th></th>\n",
       "      <th>Auditor ID</th>\n",
       "      <th>First</th>\n",
       "      <th>Last</th>\n",
       "      <th>Region</th>\n",
       "    </tr>\n",
       "  </thead>\n",
       "  <tbody>\n",
       "    <tr>\n",
       "      <th>0</th>\n",
       "      <td>234</td>\n",
       "      <td>Sue</td>\n",
       "      <td>Smith</td>\n",
       "      <td>Northern California</td>\n",
       "    </tr>\n",
       "    <tr>\n",
       "      <th>1</th>\n",
       "      <td>536</td>\n",
       "      <td>Bob</td>\n",
       "      <td>Smith</td>\n",
       "      <td>Northern California</td>\n",
       "    </tr>\n",
       "    <tr>\n",
       "      <th>2</th>\n",
       "      <td>98</td>\n",
       "      <td>Jack</td>\n",
       "      <td>Smith</td>\n",
       "      <td>New York</td>\n",
       "    </tr>\n",
       "    <tr>\n",
       "      <th>3</th>\n",
       "      <td>203</td>\n",
       "      <td>Jill</td>\n",
       "      <td>Smith</td>\n",
       "      <td>New York</td>\n",
       "    </tr>\n",
       "    <tr>\n",
       "      <th>4</th>\n",
       "      <td>304</td>\n",
       "      <td>Jerry</td>\n",
       "      <td>Johnson</td>\n",
       "      <td>Texas</td>\n",
       "    </tr>\n",
       "  </tbody>\n",
       "</table>\n",
       "</div>"
      ],
      "text/plain": [
       "   Auditor ID  First     Last               Region\n",
       "0         234    Sue    Smith  Northern California\n",
       "1         536    Bob    Smith  Northern California\n",
       "2          98   Jack    Smith             New York\n",
       "3         203   Jill    Smith             New York\n",
       "4         304  Jerry  Johnson                Texas"
      ]
     },
     "execution_count": 3,
     "metadata": {},
     "output_type": "execute_result"
    }
   ],
   "source": [
    "auditors = pd.read_csv('auditors.csv')\n",
    "auditors.head()"
   ]
  },
  {
   "cell_type": "code",
   "execution_count": 4,
   "metadata": {},
   "outputs": [
    {
     "data": {
      "text/html": [
       "<div>\n",
       "<style scoped>\n",
       "    .dataframe tbody tr th:only-of-type {\n",
       "        vertical-align: middle;\n",
       "    }\n",
       "\n",
       "    .dataframe tbody tr th {\n",
       "        vertical-align: top;\n",
       "    }\n",
       "\n",
       "    .dataframe thead th {\n",
       "        text-align: right;\n",
       "    }\n",
       "</style>\n",
       "<table border=\"1\" class=\"dataframe\">\n",
       "  <thead>\n",
       "    <tr style=\"text-align: right;\">\n",
       "      <th></th>\n",
       "      <th>Banner</th>\n",
       "      <th>Region</th>\n",
       "      <th>Store ID</th>\n",
       "    </tr>\n",
       "  </thead>\n",
       "  <tbody>\n",
       "    <tr>\n",
       "      <th>0</th>\n",
       "      <td>Walmart</td>\n",
       "      <td>Northern California</td>\n",
       "      <td>66999</td>\n",
       "    </tr>\n",
       "    <tr>\n",
       "      <th>1</th>\n",
       "      <td>Trader Joes</td>\n",
       "      <td>Northern California</td>\n",
       "      <td>4698</td>\n",
       "    </tr>\n",
       "    <tr>\n",
       "      <th>2</th>\n",
       "      <td>Safeway</td>\n",
       "      <td>Northern California</td>\n",
       "      <td>39482</td>\n",
       "    </tr>\n",
       "    <tr>\n",
       "      <th>3</th>\n",
       "      <td>Whole Foods</td>\n",
       "      <td>Northern California</td>\n",
       "      <td>34957</td>\n",
       "    </tr>\n",
       "    <tr>\n",
       "      <th>4</th>\n",
       "      <td>Walmart</td>\n",
       "      <td>New York</td>\n",
       "      <td>12837</td>\n",
       "    </tr>\n",
       "  </tbody>\n",
       "</table>\n",
       "</div>"
      ],
      "text/plain": [
       "        Banner               Region  Store ID\n",
       "0      Walmart  Northern California     66999\n",
       "1  Trader Joes  Northern California      4698\n",
       "2      Safeway  Northern California     39482\n",
       "3  Whole Foods  Northern California     34957\n",
       "4      Walmart             New York     12837"
      ]
     },
     "execution_count": 4,
     "metadata": {},
     "output_type": "execute_result"
    }
   ],
   "source": [
    "stores = pd.read_json('stores.json')\n",
    "stores.head()"
   ]
  },
  {
   "cell_type": "markdown",
   "metadata": {},
   "source": [
    "In order to bring all the data I need to create the cross-tabulation table in one dataframe, I will create the Banner and Region columns that I need in the prices dataframe and then use layered \"for loops\" on the price dataframe to check for matches between the Store ID in the prices and stores dataframes and iteratively set the Banner and Region variables in the prices dataframe to their respective value in the stores dataframe when there is a match. This will iterate over each row of the prices dataframe."
   ]
  },
  {
   "cell_type": "code",
   "execution_count": 5,
   "metadata": {},
   "outputs": [
    {
     "data": {
      "text/html": [
       "<div>\n",
       "<style scoped>\n",
       "    .dataframe tbody tr th:only-of-type {\n",
       "        vertical-align: middle;\n",
       "    }\n",
       "\n",
       "    .dataframe tbody tr th {\n",
       "        vertical-align: top;\n",
       "    }\n",
       "\n",
       "    .dataframe thead th {\n",
       "        text-align: right;\n",
       "    }\n",
       "</style>\n",
       "<table border=\"1\" class=\"dataframe\">\n",
       "  <thead>\n",
       "    <tr style=\"text-align: right;\">\n",
       "      <th></th>\n",
       "      <th>Auditor ID</th>\n",
       "      <th>Date</th>\n",
       "      <th>Price</th>\n",
       "      <th>Store ID</th>\n",
       "      <th>UPC</th>\n",
       "      <th>Banner</th>\n",
       "      <th>Region</th>\n",
       "    </tr>\n",
       "  </thead>\n",
       "  <tbody>\n",
       "    <tr>\n",
       "      <th>0</th>\n",
       "      <td>234</td>\n",
       "      <td>10/18/17</td>\n",
       "      <td>24.95</td>\n",
       "      <td>66999</td>\n",
       "      <td>268588472</td>\n",
       "      <td>Walmart</td>\n",
       "      <td>Northern California</td>\n",
       "    </tr>\n",
       "    <tr>\n",
       "      <th>1</th>\n",
       "      <td>234</td>\n",
       "      <td>10/27/17</td>\n",
       "      <td>49.71</td>\n",
       "      <td>66999</td>\n",
       "      <td>475245085</td>\n",
       "      <td>Walmart</td>\n",
       "      <td>Northern California</td>\n",
       "    </tr>\n",
       "    <tr>\n",
       "      <th>2</th>\n",
       "      <td>234</td>\n",
       "      <td>10/20/17</td>\n",
       "      <td>25.75</td>\n",
       "      <td>66999</td>\n",
       "      <td>126967843</td>\n",
       "      <td>Walmart</td>\n",
       "      <td>Northern California</td>\n",
       "    </tr>\n",
       "    <tr>\n",
       "      <th>3</th>\n",
       "      <td>234</td>\n",
       "      <td>10/23/17</td>\n",
       "      <td>18.81</td>\n",
       "      <td>66999</td>\n",
       "      <td>708930835</td>\n",
       "      <td>Walmart</td>\n",
       "      <td>Northern California</td>\n",
       "    </tr>\n",
       "    <tr>\n",
       "      <th>4</th>\n",
       "      <td>234</td>\n",
       "      <td>10/23/17</td>\n",
       "      <td>33.32</td>\n",
       "      <td>66999</td>\n",
       "      <td>325885139</td>\n",
       "      <td>Walmart</td>\n",
       "      <td>Northern California</td>\n",
       "    </tr>\n",
       "  </tbody>\n",
       "</table>\n",
       "</div>"
      ],
      "text/plain": [
       "   Auditor ID      Date  Price  Store ID        UPC   Banner  \\\n",
       "0         234  10/18/17  24.95     66999  268588472  Walmart   \n",
       "1         234  10/27/17  49.71     66999  475245085  Walmart   \n",
       "2         234  10/20/17  25.75     66999  126967843  Walmart   \n",
       "3         234  10/23/17  18.81     66999  708930835  Walmart   \n",
       "4         234  10/23/17  33.32     66999  325885139  Walmart   \n",
       "\n",
       "                Region  \n",
       "0  Northern California  \n",
       "1  Northern California  \n",
       "2  Northern California  \n",
       "3  Northern California  \n",
       "4  Northern California  "
      ]
     },
     "execution_count": 5,
     "metadata": {},
     "output_type": "execute_result"
    }
   ],
   "source": [
    "prices['Banner'] = np.nan\n",
    "prices['Region'] = np.nan\n",
    "\n",
    "for i, store in enumerate(prices['Store ID']):\n",
    "    for n, store_2 in enumerate(stores['Store ID']):\n",
    "        if store == store_2:\n",
    "            prices.loc[i, 'Banner'] = stores.loc[n, 'Banner']\n",
    "            prices.loc[i, 'Region'] = stores.loc[n, 'Region']\n",
    "\n",
    "prices.head()"
   ]
  },
  {
   "cell_type": "code",
   "execution_count": 6,
   "metadata": {},
   "outputs": [
    {
     "name": "stdout",
     "output_type": "stream",
     "text": [
      "<class 'pandas.core.frame.DataFrame'>\n",
      "RangeIndex: 12315 entries, 0 to 12314\n",
      "Data columns (total 7 columns):\n",
      "Auditor ID    12315 non-null int64\n",
      "Date          12315 non-null object\n",
      "Price         12315 non-null float64\n",
      "Store ID      12315 non-null int64\n",
      "UPC           12315 non-null int64\n",
      "Banner        11511 non-null object\n",
      "Region        11511 non-null object\n",
      "dtypes: float64(1), int64(3), object(3)\n",
      "memory usage: 673.6+ KB\n"
     ]
    }
   ],
   "source": [
    "prices.info()"
   ]
  },
  {
   "cell_type": "markdown",
   "metadata": {},
   "source": [
    "There is missingness in the Banner and Region columns. This means there was most likely one or more Store ID's in the prices dataframe that were not present in the stores dataframe and therefore did not get matching data. I will do some visualizations to explore what the gaps are."
   ]
  },
  {
   "cell_type": "code",
   "execution_count": 7,
   "metadata": {},
   "outputs": [
    {
     "data": {
      "text/plain": [
       "<matplotlib.axes._subplots.AxesSubplot at 0x187d766f6d8>"
      ]
     },
     "execution_count": 7,
     "metadata": {},
     "output_type": "execute_result"
    },
    {
     "data": {
      "image/png": "[encoded data removed]",
      "text/plain": [
       "<Figure size 432x288 with 1 Axes>"
      ]
     },
     "metadata": {
      "needs_background": "light"
     },
     "output_type": "display_data"
    }
   ],
   "source": [
    "prices['Store ID'].value_counts().plot(kind='bar', title='Store ID')"
   ]
  },
  {
   "cell_type": "code",
   "execution_count": 8,
   "metadata": {},
   "outputs": [
    {
     "data": {
      "text/plain": [
       "<matplotlib.axes._subplots.AxesSubplot at 0x187d7a26be0>"
      ]
     },
     "execution_count": 8,
     "metadata": {},
     "output_type": "execute_result"
    },
    {
     "data": {
      "image/png": "[encoded data removed]",
      "text/plain": [
       "<Figure size 432x288 with 1 Axes>"
      ]
     },
     "metadata": {
      "needs_background": "light"
     },
     "output_type": "display_data"
    }
   ],
   "source": [
    "stores['Store ID'].value_counts().plot(kind='bar')"
   ]
  },
  {
   "cell_type": "code",
   "execution_count": 9,
   "metadata": {},
   "outputs": [
    {
     "data": {
      "text/plain": [
       "<matplotlib.axes._subplots.AxesSubplot at 0x187d7af6d68>"
      ]
     },
     "execution_count": 9,
     "metadata": {},
     "output_type": "execute_result"
    },
    {
     "data": {
      "image/png": "[encoded data removed]",
      "text/plain": [
       "<Figure size 432x288 with 1 Axes>"
      ]
     },
     "metadata": {
      "needs_background": "light"
     },
     "output_type": "display_data"
    }
   ],
   "source": [
    "prices[prices.isnull().any(axis=1)]['Store ID'].value_counts().plot(kind='bar')"
   ]
  },
  {
   "cell_type": "markdown",
   "metadata": {},
   "source": [
    "These are the two Store ID's where there is any missing data. These Store ID's also cannot be found in the stores dataframe taken from the Stores JSON file, explaining why there is no Banner or Region information for these Store ID's. I will check to see which Auditors are in the missing data."
   ]
  },
  {
   "cell_type": "code",
   "execution_count": 10,
   "metadata": {},
   "outputs": [
    {
     "data": {
      "text/plain": [
       "<matplotlib.axes._subplots.AxesSubplot at 0x187d7b54278>"
      ]
     },
     "execution_count": 10,
     "metadata": {},
     "output_type": "execute_result"
    },
    {
     "data": {
      "image/png": "[encoded data removed]",
      "text/plain": [
       "<Figure size 432x288 with 1 Axes>"
      ]
     },
     "metadata": {
      "needs_background": "light"
     },
     "output_type": "display_data"
    }
   ],
   "source": [
    "prices[prices.isnull().any(axis=1)]['Auditor ID'].value_counts().plot(kind='bar')"
   ]
  },
  {
   "cell_type": "markdown",
   "metadata": {},
   "source": [
    "I can at least use the auditors dataframe to fill out the Region information using a similar process as above, but only with the Region column as there is no Banner information in the auditor dataframe to match into the prices dataframe."
   ]
  },
  {
   "cell_type": "code",
   "execution_count": 11,
   "metadata": {},
   "outputs": [
    {
     "name": "stdout",
     "output_type": "stream",
     "text": [
      "<class 'pandas.core.frame.DataFrame'>\n",
      "RangeIndex: 12315 entries, 0 to 12314\n",
      "Data columns (total 7 columns):\n",
      "Auditor ID    12315 non-null int64\n",
      "Date          12315 non-null object\n",
      "Price         12315 non-null float64\n",
      "Store ID      12315 non-null int64\n",
      "UPC           12315 non-null int64\n",
      "Banner        11511 non-null object\n",
      "Region        12315 non-null object\n",
      "dtypes: float64(1), int64(3), object(3)\n",
      "memory usage: 673.6+ KB\n"
     ]
    }
   ],
   "source": [
    "# Use the Auditors dataframe to fill in Region information where Store dataframe was lacking information.\n",
    "\n",
    "for i, auditor in enumerate(prices['Auditor ID']):\n",
    "    for n, auditor_2 in enumerate(auditors['Auditor ID']):\n",
    "        if auditor == auditor_2:\n",
    "            prices.loc[i, 'Region'] = auditors.loc[n, 'Region']\n",
    "\n",
    "prices.info()"
   ]
  },
  {
   "cell_type": "code",
   "execution_count": 12,
   "metadata": {},
   "outputs": [],
   "source": [
    "prices = prices.drop(columns=['Auditor ID', 'Date', 'Store ID'])"
   ]
  },
  {
   "cell_type": "code",
   "execution_count": 13,
   "metadata": {},
   "outputs": [
    {
     "data": {
      "text/html": [
       "<div>\n",
       "<style scoped>\n",
       "    .dataframe tbody tr th:only-of-type {\n",
       "        vertical-align: middle;\n",
       "    }\n",
       "\n",
       "    .dataframe tbody tr th {\n",
       "        vertical-align: top;\n",
       "    }\n",
       "\n",
       "    .dataframe thead th {\n",
       "        text-align: right;\n",
       "    }\n",
       "</style>\n",
       "<table border=\"1\" class=\"dataframe\">\n",
       "  <thead>\n",
       "    <tr style=\"text-align: right;\">\n",
       "      <th></th>\n",
       "      <th>Region</th>\n",
       "      <th>Kansas</th>\n",
       "      <th>New York</th>\n",
       "      <th>Northern California</th>\n",
       "      <th>Texas</th>\n",
       "    </tr>\n",
       "    <tr>\n",
       "      <th>Banner</th>\n",
       "      <th>UPC</th>\n",
       "      <th></th>\n",
       "      <th></th>\n",
       "      <th></th>\n",
       "      <th></th>\n",
       "    </tr>\n",
       "  </thead>\n",
       "  <tbody>\n",
       "    <tr>\n",
       "      <th rowspan=\"5\" valign=\"top\">Safeway</th>\n",
       "      <th>11873171</th>\n",
       "      <td>NaN</td>\n",
       "      <td>6.09</td>\n",
       "      <td>NaN</td>\n",
       "      <td>5.19</td>\n",
       "    </tr>\n",
       "    <tr>\n",
       "      <th>15052612</th>\n",
       "      <td>53.99</td>\n",
       "      <td>NaN</td>\n",
       "      <td>NaN</td>\n",
       "      <td>54.49</td>\n",
       "    </tr>\n",
       "    <tr>\n",
       "      <th>16482322</th>\n",
       "      <td>17.89</td>\n",
       "      <td>NaN</td>\n",
       "      <td>NaN</td>\n",
       "      <td>18.09</td>\n",
       "    </tr>\n",
       "    <tr>\n",
       "      <th>16729338</th>\n",
       "      <td>7.99</td>\n",
       "      <td>9.39</td>\n",
       "      <td>NaN</td>\n",
       "      <td>8.09</td>\n",
       "    </tr>\n",
       "    <tr>\n",
       "      <th>16829288</th>\n",
       "      <td>3.59</td>\n",
       "      <td>4.19</td>\n",
       "      <td>NaN</td>\n",
       "      <td>3.59</td>\n",
       "    </tr>\n",
       "  </tbody>\n",
       "</table>\n",
       "</div>"
      ],
      "text/plain": [
       "Region            Kansas  New York  Northern California  Texas\n",
       "Banner  UPC                                                   \n",
       "Safeway 11873171     NaN      6.09                  NaN   5.19\n",
       "        15052612   53.99       NaN                  NaN  54.49\n",
       "        16482322   17.89       NaN                  NaN  18.09\n",
       "        16729338    7.99      9.39                  NaN   8.09\n",
       "        16829288    3.59      4.19                  NaN   3.59"
      ]
     },
     "execution_count": 13,
     "metadata": {},
     "output_type": "execute_result"
    }
   ],
   "source": [
    "table = pd.pivot_table(prices, values='Price', index=['Banner', 'UPC'], columns='Region')\n",
    "\n",
    "table.head()"
   ]
  },
  {
   "cell_type": "code",
   "execution_count": 14,
   "metadata": {},
   "outputs": [],
   "source": [
    "table.to_csv('Engage3_Challenge.csv')"
   ]
  },
  {
   "cell_type": "markdown",
   "metadata": {},
   "source": [
    "## 2. Anamolies Detection \n",
    "\n",
    "The first problem with the data, which I had already found in the data loading, is that there were 804 price datapoints whose Store ID's were not in the Store information JSON file. While I was able to retrieve the region information by matching the Auditor ID with the Auditor information in the provided Auditor CSV, this meant I was still lacking the Banner information for those 804 price datapoints. The cross-tabs for regional prices are broken down by both Banner and UPC, so prices with missing banner information distorts the data.\n",
    "\n",
    "I will now perform exploratory data analysis to find anything else in the data that is concerning, beginnig with summary statistics of the regional price distributions."
   ]
  },
  {
   "cell_type": "code",
   "execution_count": 15,
   "metadata": {},
   "outputs": [
    {
     "data": {
      "text/html": [
       "<div>\n",
       "<style scoped>\n",
       "    .dataframe tbody tr th:only-of-type {\n",
       "        vertical-align: middle;\n",
       "    }\n",
       "\n",
       "    .dataframe tbody tr th {\n",
       "        vertical-align: top;\n",
       "    }\n",
       "\n",
       "    .dataframe thead th {\n",
       "        text-align: right;\n",
       "    }\n",
       "</style>\n",
       "<table border=\"1\" class=\"dataframe\">\n",
       "  <thead>\n",
       "    <tr style=\"text-align: right;\">\n",
       "      <th>Region</th>\n",
       "      <th>Kansas</th>\n",
       "      <th>New York</th>\n",
       "      <th>Northern California</th>\n",
       "      <th>Texas</th>\n",
       "    </tr>\n",
       "  </thead>\n",
       "  <tbody>\n",
       "    <tr>\n",
       "      <th>count</th>\n",
       "      <td>3087.000000</td>\n",
       "      <td>3331.000000</td>\n",
       "      <td>1328.000000</td>\n",
       "      <td>3765.000000</td>\n",
       "    </tr>\n",
       "    <tr>\n",
       "      <th>mean</th>\n",
       "      <td>21.390198</td>\n",
       "      <td>31.368157</td>\n",
       "      <td>35.471310</td>\n",
       "      <td>30.084550</td>\n",
       "    </tr>\n",
       "    <tr>\n",
       "      <th>std</th>\n",
       "      <td>18.610435</td>\n",
       "      <td>17.436303</td>\n",
       "      <td>19.717375</td>\n",
       "      <td>16.709557</td>\n",
       "    </tr>\n",
       "    <tr>\n",
       "      <th>min</th>\n",
       "      <td>0.690000</td>\n",
       "      <td>0.590000</td>\n",
       "      <td>0.690000</td>\n",
       "      <td>0.590000</td>\n",
       "    </tr>\n",
       "    <tr>\n",
       "      <th>25%</th>\n",
       "      <td>1.990000</td>\n",
       "      <td>17.020000</td>\n",
       "      <td>19.090000</td>\n",
       "      <td>16.290000</td>\n",
       "    </tr>\n",
       "    <tr>\n",
       "      <th>50%</th>\n",
       "      <td>17.690000</td>\n",
       "      <td>31.090000</td>\n",
       "      <td>34.990000</td>\n",
       "      <td>29.840000</td>\n",
       "    </tr>\n",
       "    <tr>\n",
       "      <th>75%</th>\n",
       "      <td>37.490000</td>\n",
       "      <td>45.590000</td>\n",
       "      <td>51.597500</td>\n",
       "      <td>44.060000</td>\n",
       "    </tr>\n",
       "    <tr>\n",
       "      <th>max</th>\n",
       "      <td>59.990000</td>\n",
       "      <td>70.090000</td>\n",
       "      <td>74.490000</td>\n",
       "      <td>63.890000</td>\n",
       "    </tr>\n",
       "  </tbody>\n",
       "</table>\n",
       "</div>"
      ],
      "text/plain": [
       "Region       Kansas     New York  Northern California        Texas\n",
       "count   3087.000000  3331.000000          1328.000000  3765.000000\n",
       "mean      21.390198    31.368157            35.471310    30.084550\n",
       "std       18.610435    17.436303            19.717375    16.709557\n",
       "min        0.690000     0.590000             0.690000     0.590000\n",
       "25%        1.990000    17.020000            19.090000    16.290000\n",
       "50%       17.690000    31.090000            34.990000    29.840000\n",
       "75%       37.490000    45.590000            51.597500    44.060000\n",
       "max       59.990000    70.090000            74.490000    63.890000"
      ]
     },
     "execution_count": 15,
     "metadata": {},
     "output_type": "execute_result"
    }
   ],
   "source": [
    "table.describe()"
   ]
  },
  {
   "cell_type": "markdown",
   "metadata": {},
   "source": [
    "Northern California has significantly less price information than the other regions, with only 1328 price datapoints compared to over 3,000 for the other three regions. While some of the Missing Banner data came from the Northern California region (based on the Auditor information) more of it came from the New York region, so that is not an adequate explanation for the large gap in price data. I would judge Northern California to either need a significant push for more price data, or there is something wrong with the reporting that is being done where the prices are not being entered correctly.\n",
    "\n",
    "The other anamoly that sticks out to me is the distribution of prices for the Kansas region. The 25th percentile of prices is extremely lower than the other three regions. I will create basic histograms of the four regions' price distributions for visual analysis of this problem."
   ]
  },
  {
   "cell_type": "code",
   "execution_count": 16,
   "metadata": {},
   "outputs": [
    {
     "data": {
      "text/plain": [
       "<matplotlib.axes._subplots.AxesSubplot at 0x187d8bb16d8>"
      ]
     },
     "execution_count": 16,
     "metadata": {},
     "output_type": "execute_result"
    },
    {
     "data": {
      "image/png": "[encoded data removed]",
      "text/plain": [
       "<Figure size 432x288 with 1 Axes>"
      ]
     },
     "metadata": {
      "needs_background": "light"
     },
     "output_type": "display_data"
    }
   ],
   "source": [
    "table['Kansas'].plot(kind='hist', title='Kansas Price Distribution')"
   ]
  },
  {
   "cell_type": "code",
   "execution_count": 17,
   "metadata": {},
   "outputs": [
    {
     "data": {
      "text/plain": [
       "<matplotlib.axes._subplots.AxesSubplot at 0x187d8e8fc18>"
      ]
     },
     "execution_count": 17,
     "metadata": {},
     "output_type": "execute_result"
    },
    {
     "data": {
      "image/png": "[encoded data removed]",
      "text/plain": [
       "<Figure size 432x288 with 1 Axes>"
      ]
     },
     "metadata": {
      "needs_background": "light"
     },
     "output_type": "display_data"
    }
   ],
   "source": [
    "table['New York'].plot(kind='hist', title='New York Price Distribution')"
   ]
  },
  {
   "cell_type": "code",
   "execution_count": 18,
   "metadata": {},
   "outputs": [
    {
     "data": {
      "text/plain": [
       "<matplotlib.axes._subplots.AxesSubplot at 0x187d8c0aac8>"
      ]
     },
     "execution_count": 18,
     "metadata": {},
     "output_type": "execute_result"
    },
    {
     "data": {
      "image/png": "[encoded data removed]",
      "text/plain": [
       "<Figure size 432x288 with 1 Axes>"
      ]
     },
     "metadata": {
      "needs_background": "light"
     },
     "output_type": "display_data"
    }
   ],
   "source": [
    "table['Northern California'].plot(kind='hist', title='Northern California Price Distribution')"
   ]
  },
  {
   "cell_type": "code",
   "execution_count": 19,
   "metadata": {},
   "outputs": [
    {
     "data": {
      "text/plain": [
       "<matplotlib.axes._subplots.AxesSubplot at 0x187d8c26ba8>"
      ]
     },
     "execution_count": 19,
     "metadata": {},
     "output_type": "execute_result"
    },
    {
     "data": {
      "image/png": "[encoded data removed]",
      "text/plain": [
       "<Figure size 432x288 with 1 Axes>"
      ]
     },
     "metadata": {
      "needs_background": "light"
     },
     "output_type": "display_data"
    }
   ],
   "source": [
    "table['Texas'].plot(kind='hist', title='Texas Price Distribution')"
   ]
  },
  {
   "cell_type": "markdown",
   "metadata": {},
   "source": [
    "As I suspected, there is extreme left skewness to the prices in the Kansas price data, while the three other regions are fairly evenly distributed. There is a problem that needs to be investigated with the reporting of price data by the Kansas auditors, Mike Johnson and Dave Johnson.\n",
    "\n",
    "I will return to the prices dataframe to find the average prices grouped by Banner and Region for more analysis."
   ]
  },
  {
   "cell_type": "code",
   "execution_count": 20,
   "metadata": {},
   "outputs": [
    {
     "data": {
      "text/plain": [
       "Banner       Region             \n",
       "Safeway      Kansas                 30.694151\n",
       "             New York               35.292941\n",
       "             Texas                  30.619833\n",
       "Trader Joes  Kansas                 29.201024\n",
       "             New York               30.521937\n",
       "             Northern California    34.376035\n",
       "             Texas                  29.321849\n",
       "Walmart      Kansas                 27.646769\n",
       "             New York               28.427648\n",
       "             Northern California    32.854515\n",
       "             Texas                  27.958877\n",
       "Wegmans      Kansas                 30.276889\n",
       "             New York               30.885284\n",
       "             Texas                  30.121931\n",
       "Whole Foods  Kansas                  1.989452\n",
       "             New York               33.834301\n",
       "             Northern California    38.417573\n",
       "             Texas                  32.823461\n",
       "Name: Price, dtype: float64"
      ]
     },
     "execution_count": 20,
     "metadata": {},
     "output_type": "execute_result"
    }
   ],
   "source": [
    "prices.groupby(['Banner', 'Region'])['Price'].mean()"
   ]
  },
  {
   "cell_type": "markdown",
   "metadata": {},
   "source": [
    "General trends hold with most of the data: Northern California average prices for each Banner are highest. New York is next highest, though only slightly higher than Texas and Kansas, and Texas and Kansas are fairly similar. Store Banner trends can also be found. Whole Foods is most expensive in each region (save for the Kansas locations - more on that problem later). Walmart is the cheapest store in each region. Interestingly, Wegmans has very little regional average price differences.\n",
    "\n",
    "However, we find the two main problems we have already detected distilled even further. \n",
    "1. Northern California has no prices whatsoever reported for Safeway or Wegmans (Wegmans probably does not exist in Northern California based on my knowledge, but Safeway definitely does). This signals a reporting error somewhere along the way for the Northern California auditors, and explains our massive gap between the amount of price datapoints in Northern California compared to all other regions.\n",
    "2. The Whole Foods in Kansas have an incredibly low price average of just under 2 dollars. The previously discovered Kansas price distribution skewness must be attributed to the Whole Foods price auditing in Kansas. There is either massive user error or system failure that is reporting almost all UPC prices to be 1.99 at the Kansas region Whole Foods.\n",
    "\n",
    "These two problems, along with the first problem during data loading of having two Store ID's that had no reported Banner information, are what I would report as the issues with the datasets."
   ]
  }
 ],
 "metadata": {
  "kernelspec": {
   "display_name": "Python 3",
   "language": "python",
   "name": "python3"
  },
  "language_info": {
   "codemirror_mode": {
    "name": "ipython",
    "version": 3
   },
   "file_extension": ".py",
   "mimetype": "text/x-python",
   "name": "python",
   "nbconvert_exporter": "python",
   "pygments_lexer": "ipython3",
   "version": "3.7.3"
  }
 },
 "nbformat": 4,
 "nbformat_minor": 2
}
